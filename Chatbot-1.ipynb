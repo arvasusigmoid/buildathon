{
 "cells": [
  {
   "cell_type": "code",
   "execution_count": 1,
   "id": "2f509f7e",
   "metadata": {},
   "outputs": [],
   "source": [
    "from typing import Annotated\n",
    "from typing_extensions import TypedDict,List\n",
    "from langgraph.graph import StateGraph,START,END\n",
    "from langgraph.graph.message import add_messages\n",
    "import pandas as pd\n",
    "import pprint\n",
    "from langchain.chat_models import init_chat_model\n",
    "#from langchain_nvidia_ai_endpoints import ChatNVIDIA\n",
    "from langchain_core.output_parsers import PydanticOutputParser\n",
    "from langchain_core.messages import HumanMessage\n",
    "from langchain_core.tools import tool\n",
    "from langgraph.prebuilt import create_react_agent\n",
    "from promptstore import orderPrompt, conversationPrompt, agentPrompt\n",
    "from Classes import Item, Order\n",
    "from utils import makeRetriever, get_context\n",
    "import warnings\n",
    "import operator\n",
    "warnings.filterwarnings(\"ignore\")\n",
    "import os \n",
    "from dotenv import load_dotenv\n",
    "load_dotenv()\n",
    "from langgraph.checkpoint.memory import MemorySaver\n",
    "from langgraph.prebuilt import ToolNode, tools_condition\n",
    "from IPython.display import Image, display\n",
    "memory= MemorySaver()\n",
    "import json"
   ]
  },
  {
   "cell_type": "code",
   "execution_count": 2,
   "id": "f8b1c708",
   "metadata": {},
   "outputs": [],
   "source": [
    "class State(TypedDict):\n",
    "    messages: Annotated[list, add_messages]\n",
    " "
   ]
  },
  {
   "cell_type": "code",
   "execution_count": null,
   "id": "a6b8a6c9",
   "metadata": {},
   "outputs": [],
   "source": [
    "parser = PydanticOutputParser(pydantic_object=Order)\n",
    "menu = pd.read_csv(\"testmenu100.csv\")\n"
   ]
  },
  {
   "cell_type": "code",
   "execution_count": 12,
   "id": "b07d8757",
   "metadata": {},
   "outputs": [],
   "source": [
    "# from langchain_groq import ChatGroq\n",
    "from langchain.chat_models import init_chat_model\n",
    "# llm = ChatGroq(model=\"llama-3.1-8b-instant\")\n",
    "llm = init_chat_model(\"ollama:llama3.1\")\n",
    "orderChain = orderPrompt | llm | parser\n",
    "conversationChain = conversationPrompt | llm\n",
    "retriever = makeRetriever(menu, search_type=\"similarity\", k=10)\n"
   ]
  },
  {
   "cell_type": "markdown",
   "id": "08ce1bf6",
   "metadata": {},
   "source": [
    "Tools"
   ]
  },
  {
   "cell_type": "code",
   "execution_count": 13,
   "id": "a7713c73",
   "metadata": {},
   "outputs": [],
   "source": [
    "@tool\n",
    "def extract_order(user_input: str) -> Order:\n",
    "   \"\"\"\n",
    "    Extracts a single, structured order JSON from user input.\n",
    "    ALWAYS use this tool when the user is explicitly placing an order.\n",
    "    The function must be called only once per user turn,\n",
    "    and its purpose is to parse the entire user request into a single order.\n",
    "    the order should be a single JSON object with the following structure:{\n",
    "  \"items\": [\n",
    "    {\n",
    "      \"item\": \"Burger\",\n",
    "      \"quantity\": 1,\n",
    "      \"modifiers\": [\n",
    "        \"extra cheese\"\n",
    "      ]\n",
    "    },\n",
    "    {\n",
    "      \"item\": \"Burger\",\n",
    "      \"quantity\": 1,\n",
    "      \"modifiers\": [\n",
    "        \"beef patty\"\n",
    "      ]\n",
    "    },\n",
    "    {\n",
    "      \"item\": \"Burger\",\n",
    "      \"quantity\": 1,\n",
    "      \"modifiers\": []\n",
    "    },\n",
    "    {\n",
    "      \"item\": \"ginger beer\",\n",
    "      \"quantity\": 1,\n",
    "      \"modifiers\": []\n",
    "    }\n",
    "  ]\n",
    "}\"\"\"\n",
    "   try:\n",
    "        result = orderChain.invoke({\n",
    "            \"user_input\": user_input,\n",
    "            \"format_instructions\": parser.get_format_instructions()\n",
    "        })\n",
    "        return result.model_dump_json()\n",
    "   except Exception as e:\n",
    "        return f\"Error parsing order: {str(e)}\"\n",
    "    \n",
    "@tool\n",
    "def menu_query(user_input: str) -> str:\n",
    "    \"\"\"Answer questions about the menu. If the user asks about the menu, this tool will be used to answer the question. Repeat the order if the user asks about the order.(Extract it from the chat history)\"\"\"\n",
    "    rel_docs, context = get_context(user_input, retriever)\n",
    "    ai_response = conversationChain.invoke({\n",
    "        \"context\": context,\n",
    "        \"user_input\": user_input,\n",
    "        \"chat_history\": []\n",
    "    })\n",
    "    return ai_response.content\n",
    "\n",
    "@tool\n",
    "def order_summary(order_history: Annotated[list, list.__add__]) -> str:\n",
    "    \"\"\"Summarize the order. This tool summarizes the order by looking at the JSON output from the extract_order tool in the order_history. The user is asking to summarize the order or 'what did I order?'\"\"\"\n",
    "    if order_history:\n",
    "        \n",
    "        most_recent_order = order_history[-1]\n",
    "        return f\"Your current order is: {most_recent_order}. Would you like to confirm this order?\"\n",
    "    else:\n",
    "        return \"No order found. Please place an order first.\"\n",
    "\n"
   ]
  },
  {
   "cell_type": "code",
   "execution_count": 14,
   "id": "8fdfc0a1",
   "metadata": {},
   "outputs": [],
   "source": [
    "\n",
    "tools = [extract_order, menu_query,order_summary]"
   ]
  },
  {
   "cell_type": "code",
   "execution_count": 15,
   "id": "d11e2a36",
   "metadata": {},
   "outputs": [],
   "source": [
    "llm_with_tools=llm.bind_tools(tools)\n"
   ]
  },
  {
   "cell_type": "code",
   "execution_count": 16,
   "id": "63876736",
   "metadata": {},
   "outputs": [],
   "source": [
    "from langgraph.graph import StateGraph, START, END\n",
    "from langgraph.prebuilt import ToolNode, tools_condition\n",
    "from langchain_core.messages import FunctionMessage\n",
    "\n",
    "def merge_orders(current_order: dict, new_order: dict) -> dict:\n",
    "    \"\"\"Combines a new order dictionary with the existing order dictionary.\"\"\"\n",
    "    if not current_order:\n",
    "        return new_order\n",
    "    \n",
    "    # Merge logic: here we'll just add new items to the existing list.\n",
    "    # You could add more complex logic here (e.g., merging quantities).\n",
    "    current_order['items'].extend(new_order.get('items', []))\n",
    "    \n",
    "    return current_order\n",
    "class State(TypedDict):\n",
    "    \"\"\"State of the graph, including messages and order history.\"\"\"\n",
    "    messages: Annotated[list, add_messages]\n",
    "    order_history: Annotated[dict, merge_orders]\n",
    "## Graph\n",
    "\n",
    "def update_order_history(state: State):\n",
    "    last_message = state['messages'][-1]\n",
    "    \n",
    "    if isinstance(last_message, FunctionMessage) and last_message.name == 'extract_order':\n",
    "        # Parse the JSON string into a Python dictionary\n",
    "        try:\n",
    "            new_order_data = json.loads(last_message.content)\n",
    "            # The combiner will merge this dictionary with the existing order_history\n",
    "            return {\"order_history\": new_order_data}\n",
    "        except json.JSONDecodeError:\n",
    "            # Handle cases where the tool output is not valid JSON\n",
    "            return {}\n",
    "            \n",
    "    return {}\n",
    "## Node Condition\n",
    "def tool_calling_llm(state: State):\n",
    "   return {\"messages\": [llm_with_tools.invoke(state['messages'])]}\n",
    "\n",
    "builder = StateGraph(State)\n",
    "builder.add_node(\"tool_calling_llm\", tool_calling_llm)\n",
    "builder.add_node(\"update_order_history\", update_order_history)\n",
    "builder.add_node(\"tools\", ToolNode(tools))\n",
    "\n",
    "## Edges\n",
    "# Define the single, unambiguous entry point\n",
    "builder.add_edge(START, \"tool_calling_llm\")\n",
    "\n",
    "# Define the conditional edges from the 'tool_calling_llm'\n",
    "builder.add_conditional_edges(\n",
    "    \"tool_calling_llm\",\n",
    "    tools_condition,\n",
    "    {\n",
    "        \"tools\": \"tools\",\n",
    "        \"__end__\": END,\n",
    "    }\n",
    ")\n",
    "\n",
    "# Define the conditional edges from the 'tools' node\n",
    "builder.add_conditional_edges(\n",
    "    \"tools\",\n",
    "    lambda state: state['messages'][-1].name == \"extract_order\",\n",
    "    {\n",
    "        True: \"update_order_history\",\n",
    "        False: \"tool_calling_llm\"\n",
    "    }\n",
    ")\n",
    "\n",
    "# Define the edge from the 'update_order_history' node\n",
    "builder.add_edge(\"update_order_history\", \"tool_calling_llm\")\n",
    "\n",
    "# graph building and saving the memory\n",
    "memory = MemorySaver()\n",
    "graph = builder.compile(checkpointer=memory)"
   ]
  },
  {
   "cell_type": "code",
   "execution_count": 17,
   "id": "09f564ac",
   "metadata": {},
   "outputs": [
    {
     "data": {
      "image/png": "[encoded data removed]",
      "text/plain": [
       "<IPython.core.display.Image object>"
      ]
     },
     "metadata": {},
     "output_type": "display_data"
    }
   ],
   "source": [
    "display(Image(graph.get_graph().draw_mermaid_png()))"
   ]
  },
  {
   "cell_type": "code",
   "execution_count": 18,
   "id": "5f7ffc2e",
   "metadata": {},
   "outputs": [
    {
     "data": {
      "text/plain": [
       "'Based on the tool call output, it appears that I can fulfill your order for a burger and 1 shot of espresso. Your total comes out to be the price of a burger plus the cost of a shot of espresso.\\n\\nWould you like me to provide the exact prices or proceed with preparing your order?'"
      ]
     },
     "execution_count": 18,
     "metadata": {},
     "output_type": "execute_result"
    }
   ],
   "source": [
    "config={\"configurable\":{\"thread_id\":\"1\"}}\n",
    "response=graph.invoke({'messages': 'I want a Burger and 1 shot of espresso'},config=config)\n",
    "response['messages'][-1].content"
   ]
  },
  {
   "cell_type": "code",
   "execution_count": 19,
   "id": "2545a446",
   "metadata": {},
   "outputs": [
    {
     "name": "stdout",
     "output_type": "stream",
     "text": [
      "another burger and espresso\n",
      "\n",
      "{\"items\":[{\"item_name\":\"Burger\",\"quantity\":1,\"modifiers\":[]},{\"item_name\":\"Espresso\",\"quantity\":1,\"modifiers\":[\"no sugar\"]}]}\n",
      "Based on the tool call output, it appears that I can fulfill your order for a burger and 1 shot of espresso with no sugar. Your total comes out to be the price of a burger plus the cost of a shot of espresso without sugar.\n",
      "\n",
      "Would you like me to proceed with preparing your order?\n"
     ]
    }
   ],
   "source": [
    "config={\"configurable\":{\"thread_id\":\"1\"}}\n",
    "for chunk in graph.stream({'messages': ['another burger and espresso']},config=config,stream_mode=\"values\"):\n",
    "    print(chunk['messages'][-1].content)"
   ]
  },
  {
   "cell_type": "code",
   "execution_count": 20,
   "id": "b355cef5",
   "metadata": {},
   "outputs": [
    {
     "name": "stdout",
     "output_type": "stream",
     "text": [
      "I want 3 Burgers, 1 burger from this should have extra cheese and another should have a beef patty and ginger beer\n",
      "\n",
      "{\"items\":[{\"item_name\":\"Burger\",\"quantity\":2,\"modifiers\":[\"extra cheese\"]},{\"item_name\":\"Burger\",\"quantity\":1,\"modifiers\":[\"beef patty\"]},{\"item_name\":\"Burger\",\"quantity\":1,\"modifiers\":[\"no sugar\"]}]}\n",
      "Based on the tool call output, it appears that I can fulfill your order for 3 burgers. One burger will have extra cheese, another will have a beef patty, and the third one is regular.\n",
      "\n",
      "I'll also include a ginger beer in your order as per your request. Your total comes out to be the price of three burgers plus the cost of a shot of espresso without sugar (which was added earlier).\n",
      "\n",
      "Would you like me to proceed with preparing your order?\n"
     ]
    }
   ],
   "source": [
    "config={\"configurable\":{\"thread_id\":\"1\"}}\n",
    "messages = ['I want 3 Burgers, 1 burger from this should have extra cheese and another should have a beef patty and ginger beer']\n",
    "for chunk in graph.stream({'messages':messages },config=config,stream_mode=\"values\"):\n",
    "    print(chunk['messages'][-1].content)\n",
    "    last_message = chunk['messages'][-1]\n",
    "    if hasattr(last_message, 'tool_calls') and last_message.tool_calls:\n",
    "        for tool_call in last_message.tool_calls:\n",
    "            if tool_call['name'] == 'order_summary':\n",
    "                  print(\"The agent is calling the order_summary tool.\", message=last_message.content)\n",
    "                  \n",
    "\n",
    "        if last_message.tool_calls[0]['name'] == \"extract_order\":\n",
    "            messages.append(last_message)"
   ]
  },
  {
   "cell_type": "code",
   "execution_count": 21,
   "id": "1e123920",
   "metadata": {},
   "outputs": [
    {
     "name": "stdout",
     "output_type": "stream",
     "text": [
      "================================\u001b[1m Human Message \u001b[0m=================================\n",
      "\n",
      "I want a Burger and 1 shot of espresso\n",
      "==================================\u001b[1m Ai Message \u001b[0m==================================\n",
      "Tool Calls:\n",
      "  extract_order (b5e43d3c-04ae-4dc2-8230-189838409878)\n",
      " Call ID: b5e43d3c-04ae-4dc2-8230-189838409878\n",
      "  Args:\n",
      "    user_input: I want a Burger and 1 shot of espresso\n",
      "=================================\u001b[1m Tool Message \u001b[0m=================================\n",
      "Name: extract_order\n",
      "\n",
      "{\"items\":[{\"item_name\":\"Burger\",\"quantity\":1,\"modifiers\":[]},{\"item_name\":\"Espresso\",\"quantity\":1,\"modifiers\":[]}]}\n",
      "==================================\u001b[1m Ai Message \u001b[0m==================================\n",
      "\n",
      "Based on the tool call output, it appears that I can fulfill your order for a burger and 1 shot of espresso. Your total comes out to be the price of a burger plus the cost of a shot of espresso.\n",
      "\n",
      "Would you like me to provide the exact prices or proceed with preparing your order?\n",
      "================================\u001b[1m Human Message \u001b[0m=================================\n",
      "\n",
      "I want a Burger and 1 shot of espresso\n",
      "==================================\u001b[1m Ai Message \u001b[0m==================================\n",
      "Tool Calls:\n",
      "  extract_order (fabf1e0c-a436-402a-8dc5-bf47934fea83)\n",
      " Call ID: fabf1e0c-a436-402a-8dc5-bf47934fea83\n",
      "  Args:\n",
      "    user_input: I want a Burger and 1 shot of espresso\n",
      "=================================\u001b[1m Tool Message \u001b[0m=================================\n",
      "Name: extract_order\n",
      "\n",
      "{\"items\":[{\"item_name\":\"Burger\",\"quantity\":1,\"modifiers\":[]},{\"item_name\":\"Espresso\",\"quantity\":1,\"modifiers\":[\"no sugar\"]}]}\n",
      "==================================\u001b[1m Ai Message \u001b[0m==================================\n",
      "\n",
      "Based on the tool call output, it appears that I can fulfill your order for a burger and 1 shot of espresso with no sugar. Your total comes out to be the price of a burger plus the cost of a shot of espresso without sugar.\n",
      "\n",
      "Would you like me to proceed with preparing your order?\n",
      "================================\u001b[1m Human Message \u001b[0m=================================\n",
      "\n",
      "I want 3 Burgers, 1 burger from this should have extra cheese and another should have a beef patty and ginger beer\n",
      "==================================\u001b[1m Ai Message \u001b[0m==================================\n",
      "Tool Calls:\n",
      "  extract_order (85ecf2a0-5a6e-490d-8ff3-6f217fc3af7b)\n",
      " Call ID: 85ecf2a0-5a6e-490d-8ff3-6f217fc3af7b\n",
      "  Args:\n",
      "    user_input: I want 3 Burgers, 1 burger from this should have extra cheese and another should have a beef patty and ginger beer\n",
      "=================================\u001b[1m Tool Message \u001b[0m=================================\n",
      "Name: extract_order\n",
      "\n",
      "{\"items\":[{\"item_name\":\"Burger\",\"quantity\":2,\"modifiers\":[\"extra cheese\"]},{\"item_name\":\"Burger\",\"quantity\":1,\"modifiers\":[\"beef patty\"]},{\"item_name\":\"Burger\",\"quantity\":1,\"modifiers\":[\"no sugar\"]}]}\n",
      "==================================\u001b[1m Ai Message \u001b[0m==================================\n",
      "\n",
      "Based on the tool call output, it appears that I can fulfill your order for 3 burgers. One burger will have extra cheese, another will have a beef patty, and the third one is regular.\n",
      "\n",
      "I'll also include a ginger beer in your order as per your request. Your total comes out to be the price of three burgers plus the cost of a shot of espresso without sugar (which was added earlier).\n",
      "\n",
      "Would you like me to proceed with preparing your order?\n",
      "================================\u001b[1m Human Message \u001b[0m=================================\n",
      "\n",
      "I want 3 Burgers, 1 burger from this should have extra cheese and another should have a beef patty and ginger beer\n",
      "==================================\u001b[1m Ai Message \u001b[0m==================================\n",
      "Tool Calls:\n",
      "  order_summary (51981cc9-f854-450c-96a0-f84125ad55a4)\n",
      " Call ID: 51981cc9-f854-450c-96a0-f84125ad55a4\n",
      "  Args:\n",
      "    order_history: [{'item_name': 'Burger', 'quantity': 3, 'modifiers': [['extra cheese'], ['beef patty'], []], 'addons': []}, {'item_name': 'Espresso', 'quantity': 1, 'modifiers': ['no sugar'], 'addons': [], 'notes': []}]\n",
      "=================================\u001b[1m Tool Message \u001b[0m=================================\n",
      "Name: extract_order\n",
      "\n",
      "{\"items\":[{\"item_name\":\"Burger\",\"quantity\":1,\"modifiers\":[\"extra cheese\"]},{\"item_name\":\"Burger\",\"quantity\":1,\"modifiers\":[\"beef patty\"]},{\"item_name\":\"Burger\",\"quantity\":1,\"modifiers\":[]}]}\n",
      "==================================\u001b[1m Ai Message \u001b[0m==================================\n",
      "\n",
      "Your current order is: \n",
      "- Burger with extra cheese \n",
      "- Burger with beef patty \n",
      "- Burger \n",
      "1 x Ginger Beer\n",
      "================================\u001b[1m Human Message \u001b[0m=================================\n",
      "\n",
      "Your current order is: {'item_name': 'Espresso', 'quantity': 1, 'modifiers': ['no sugar'], 'addons': [], 'notes': []}. Would you like to confirm this order?\n",
      "==================================\u001b[1m Ai Message \u001b[0m==================================\n",
      "\n",
      "Based on the tool call output, it appears that your ordered items are:\n",
      "\n",
      "*   3 Burgers with the following specifications:\n",
      "    *   1 Burger with extra cheese\n",
      "    *   1 Burger with a beef patty\n",
      "    *   1 Regular Burger\n",
      "*   1 shot of Espresso without sugar\n"
     ]
    }
   ],
   "source": [
    "for chunk in graph.stream({'messages':messages },config=config,stream_mode=\"values\"):\n",
    "    for m in chunk['messages']:\n",
    "        m.pretty_print()"
   ]
  },
  {
   "cell_type": "code",
   "execution_count": null,
   "id": "af0c1edb",
   "metadata": {},
   "outputs": [],
   "source": []
  }
 ],
 "metadata": {
  "kernelspec": {
   "display_name": "3.11.8",
   "language": "python",
   "name": "python3"
  },
  "language_info": {
   "codemirror_mode": {
    "name": "ipython",
    "version": 3
   },
   "file_extension": ".py",
   "mimetype": "text/x-python",
   "name": "python",
   "nbconvert_exporter": "python",
   "pygments_lexer": "ipython3",
   "version": "3.11.8"
  }
 },
 "nbformat": 4,
 "nbformat_minor": 5
}
